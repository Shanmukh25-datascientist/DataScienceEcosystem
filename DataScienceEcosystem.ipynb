{
 "cells": [
  {
   "cell_type": "markdown",
   "id": "e9040eab-9c8b-4f61-87cc-df600229b164",
   "metadata": {},
   "source": [
    "# Data Science Tools and Ecosystem"
   ]
  },
  {
   "cell_type": "markdown",
   "id": "22569f8c-701d-4331-86b4-2a95287261d7",
   "metadata": {},
   "source": [
    "In this notebook, Data Science Tools and Ecosystem are summarized."
   ]
  },
  {
   "cell_type": "markdown",
   "id": "964a9303-7ddf-44dd-9b21-e0748226ca43",
   "metadata": {},
   "source": [
    "1. Python\n",
    "2. R\n",
    "3. SQL\n"
   ]
  },
  {
   "cell_type": "markdown",
   "id": "f806cd89-31ea-46d0-bebf-65b96b75da39",
   "metadata": {},
   "source": [
    "1. Pandas\n",
    "2. NumPy\n",
    "3. Matplotlib\n",
    "4. Scikit-learn"
   ]
  },
  {
   "cell_type": "markdown",
   "id": "ae43dbf1-d8f3-4466-89c6-c1361aa68b39",
   "metadata": {},
   "source": [
    "| Data Science Tools |\n",
    "|--------------------|\n",
    "| Jupyter Notebook   |\n",
    "| Apache Hadoop      |\n",
    "| Tableau            |\n"
   ]
  },
  {
   "cell_type": "markdown",
   "id": "481f544d-5522-4ed2-97fe-c596b019a38e",
   "metadata": {},
   "source": [
    "### Below are a few examples of evaluating arithmetic expressions in Python.\n"
   ]
  },
  {
   "cell_type": "code",
   "execution_count": 11,
   "id": "8245e2bf-3bbd-4676-8f00-4d7a66a6f312",
   "metadata": {},
   "outputs": [
    {
     "data": {
      "text/plain": [
       "17.0"
      ]
     },
     "execution_count": 11,
     "metadata": {},
     "output_type": "execute_result"
    }
   ],
   "source": [
    "(3*4)+5.\n",
    " # This is a simple arithmetic expression to multiply then add"
   ]
  },
  {
   "cell_type": "code",
   "execution_count": 13,
   "id": "25f3199f-66e6-4386-af5e-046f6b372199",
   "metadata": {},
   "outputs": [
    {
     "data": {
      "text/plain": [
       "3.3333333333333335"
      ]
     },
     "execution_count": 13,
     "metadata": {},
     "output_type": "execute_result"
    }
   ],
   "source": [
    "200/60.\n",
    " # This will convert 200 minutes to hours by dividing by 60."
   ]
  },
  {
   "cell_type": "markdown",
   "id": "3d7d7544-43f2-4646-afc6-6b04149f345f",
   "metadata": {},
   "source": [
    "### Objectives:\n",
    "- List popular languages for Data Science.\n",
    "- List popular libraries for Data Science.\n",
    "- Introduce arithmetic operations in Python.\n",
    "- Demonstrate converting minutes to hours.\n",
    "- Create a table of Data Science tools.\n"
   ]
  },
  {
   "cell_type": "markdown",
   "id": "25b74c68-bb64-4941-b70c-e7d4ba0d935e",
   "metadata": {},
   "source": [
    "## Author\n",
    "Shanmukh "
   ]
  },
  {
   "cell_type": "code",
   "execution_count": null,
   "id": "9975ab5c-b5c6-4ef2-8192-a5e63739b792",
   "metadata": {},
   "outputs": [],
   "source": []
  }
 ],
 "metadata": {
  "kernelspec": {
   "display_name": "Python [conda env:base] *",
   "language": "python",
   "name": "conda-base-py"
  },
  "language_info": {
   "codemirror_mode": {
    "name": "ipython",
    "version": 3
   },
   "file_extension": ".py",
   "mimetype": "text/x-python",
   "name": "python",
   "nbconvert_exporter": "python",
   "pygments_lexer": "ipython3",
   "version": "3.12.7"
  }
 },
 "nbformat": 4,
 "nbformat_minor": 5
}
